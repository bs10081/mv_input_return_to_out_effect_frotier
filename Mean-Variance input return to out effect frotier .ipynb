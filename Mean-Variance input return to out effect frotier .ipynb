{
 "cells": [
  {
   "cell_type": "markdown",
   "id": "8c5acceb",
   "metadata": {},
   "source": [
    "# Mean-Variance Data Preparation\n",
    "## 前期依賴\n",
    "### 安裝函式庫\n",
    "- 使用前需先安裝以下函式庫👇\n",
    "  - 記得通過 `conda` 來新增一個環境"
   ]
  },
  {
   "cell_type": "markdown",
   "id": "9dd90d0a",
   "metadata": {},
   "source": [
    "#### 安裝 Gurobi"
   ]
  },
  {
   "cell_type": "code",
   "execution_count": null,
   "id": "21b7987c",
   "metadata": {
    "vscode": {
     "languageId": "shellscript"
    }
   },
   "outputs": [],
   "source": [
    "!conda config --add channels https://conda.anaconda.org/gurobi"
   ]
  },
  {
   "cell_type": "code",
   "execution_count": null,
   "id": "3a5df75e",
   "metadata": {
    "vscode": {
     "languageId": "shellscript"
    }
   },
   "outputs": [],
   "source": [
    "conda install gurobi"
   ]
  },
  {
   "cell_type": "markdown",
   "id": "254b1064",
   "metadata": {},
   "source": [
    "#### 安裝其他依賴"
   ]
  },
  {
   "cell_type": "code",
   "execution_count": null,
   "id": "2bf8aaca",
   "metadata": {
    "vscode": {
     "languageId": "shellscript"
    }
   },
   "outputs": [],
   "source": [
    "conda install pandas numpy matplotlib openpyxl"
   ]
  },
  {
   "cell_type": "markdown",
   "id": "7d4dc3c2",
   "metadata": {},
   "source": [
    "### 導入 Gurobi license\n",
    "- 學術可以從這裡獲取👇\n",
    "  - [Free Licenses for Academics & Recent Graduates](https://www.gurobi.com/academia/academic-program-and-licenses/)\n",
    "- 替換下方的 `YOUR_LICENSE_KEY` 如果已經有了就跳過"
   ]
  },
  {
   "cell_type": "code",
   "execution_count": null,
   "id": "2871d34c",
   "metadata": {},
   "outputs": [],
   "source": [
    "import subprocess\n",
    "from IPython.core.magic import register_line_magic\n",
    "\n",
    "@register_line_magic\n",
    "def grbgetkey(line):\n",
    "    license_key = input(\"請輸入您的 Gurobi license key，然後按 Enter: \")\n",
    "    \n",
    "    try:\n",
    "        result = subprocess.run(['grbgetkey', license_key], \n",
    "                                capture_output=True, \n",
    "                                text=True, \n",
    "                                check=True)\n",
    "        print(\"Gurobi license key 設置成功！\")\n",
    "        print(\"命令輸出:\")\n",
    "        print(result.stdout)\n",
    "    except subprocess.CalledProcessError as e:\n",
    "        print(\"設置 Gurobi license key 時發生錯誤。\")\n",
    "        print(\"錯誤輸出:\")\n",
    "        print(e.stderr)\n",
    "    except FileNotFoundError:\n",
    "        print(\"錯誤：找不到 'grbgetkey' 命令。請確保 Gurobi 已正確安裝且在系統路徑中。\")\n",
    "\n",
    "print(\"請在新的單元格中使用 %grbgetkey 魔法命令來設置 Gurobi license key\")"
   ]
  },
  {
   "cell_type": "code",
   "execution_count": null,
   "id": "af378011",
   "metadata": {
    "vscode": {
     "languageId": "perl"
    }
   },
   "outputs": [],
   "source": [
    "%grbgetkey"
   ]
  },
  {
   "cell_type": "markdown",
   "id": "115742a4",
   "metadata": {},
   "source": [
    "## 主程式"
   ]
  },
  {
   "cell_type": "markdown",
   "id": "9039c1a3",
   "metadata": {},
   "source": [
    "### 填寫路徑（很重要）"
   ]
  },
  {
   "cell_type": "code",
   "execution_count": 1,
   "id": "3410b941",
   "metadata": {},
   "outputs": [
    {
     "name": "stdout",
     "output_type": "stream",
     "text": [
      "請在新的單元格中使用 %get_data_path 魔法命令來設置 data_path\n"
     ]
    }
   ],
   "source": [
    "import sys\n",
    "from IPython.core.magic import register_line_magic\n",
    "\n",
    "@register_line_magic\n",
    "def get_data_path(line):\n",
    "    def process_path(path):\n",
    "        path = path.strip()  # 移除開頭和結尾的空白字符\n",
    "        if sys.platform.startswith('win'):\n",
    "            return fr\"{path}\"\n",
    "        return f\"{path}\"\n",
    "\n",
    "    user_input = input(\"請貼上或輸入您的文件路徑，然後按 Enter: \")\n",
    "    \n",
    "    global data_path\n",
    "    data_path = process_path(user_input)\n",
    "    \n",
    "    print(f\"data_path 已設置為: {data_path}\")\n",
    "    print(\"現在可以繼續執行以下程式\")\n",
    "\n",
    "print(\"請在新的單元格中使用 %get_data_path 魔法命令來設置 data_path\")\n"
   ]
  },
  {
   "cell_type": "code",
   "execution_count": 2,
   "id": "47e6726d",
   "metadata": {
    "vscode": {
     "languageId": "shellscript"
    }
   },
   "outputs": [
    {
     "name": "stdout",
     "output_type": "stream",
     "text": [
      "data_path 已設置為: threeassetsonly.xlsx\n",
      "現在可以繼續執行以下程式\n"
     ]
    }
   ],
   "source": [
    "%get_data_path"
   ]
  },
  {
   "cell_type": "markdown",
   "id": "ca9d52fa",
   "metadata": {},
   "source": [
    "### 導入函式庫"
   ]
  },
  {
   "cell_type": "code",
   "execution_count": 3,
   "id": "7890b51f",
   "metadata": {},
   "outputs": [],
   "source": [
    "import gurobipy as gp\n",
    "from gurobipy import GRB  \n",
    "import pandas as pd\n",
    "import numpy as np\n",
    "import matplotlib.pyplot as plt"
   ]
  },
  {
   "cell_type": "markdown",
   "id": "d94c679b",
   "metadata": {},
   "source": [
    "### 導入數據並進行初步處理\n"
   ]
  },
  {
   "cell_type": "code",
   "execution_count": 4,
   "id": "fe726225",
   "metadata": {},
   "outputs": [],
   "source": [
    "# 導入示例數據\n",
    "returns = pd.read_excel(data_path)\n",
    "\n",
    "# 計算預期報酬和協方差矩陣\n",
    "expected_returns = np.mean(returns, axis=0)\n",
    "cov_matrix = np.cov(returns, rowvar=False)\n",
    "\n",
    "# 資產數量\n",
    "n = len(expected_returns)"
   ]
  },
  {
   "cell_type": "markdown",
   "id": "500e51a1",
   "metadata": {},
   "source": [
    "### 定義優化函數"
   ]
  },
  {
   "cell_type": "code",
   "execution_count": 5,
   "id": "134fe1d2",
   "metadata": {},
   "outputs": [],
   "source": [
    "def optimize_portfolio(target_return):\n",
    "    # 創建Gurobi模型\n",
    "    m = gp.Model('mean_variance')\n",
    "\n",
    "    # 決策變量：投資組合權重\n",
    "    weights = m.addVars(n, lb=0, ub=1, name=\"weights\")\n",
    "\n",
    "    # 投資組合方差 (objective function)\n",
    "    portfolio_variance = sum(weights[i] * cov_matrix[i, j] * weights[j] for i in range(n) for j in range(n))\n",
    "    m.setObjective(portfolio_variance, GRB.MINIMIZE)\n",
    "    \n",
    "    # 目標收益約束\n",
    "    m.addConstr(sum(weights[i] * expected_returns[i] for i in range(n)) >= target_return, \"target_return\")\n",
    "    PR = sum(weights[i] * expected_returns[i] for i in range(n))\n",
    "    \n",
    "    # 全資金約束（權重之和為1）\n",
    "    m.addConstr(weights.sum() == 1, \"budget\")\n",
    "    \n",
    "    # 簡化輸出的內容\n",
    "    m.setParam(\"OutputFlag\", 0)\n",
    "    # 優化模型\n",
    "    m.optimize()\n",
    "    \n",
    "    if m.status == GRB.OPTIMAL:\n",
    "        PSTD = portfolio_variance.getValue() ** 0.5\n",
    "        return PSTD, PR.getValue(), [weights[i].X for i in range(n)]\n",
    "    else:\n",
    "        return None"
   ]
  },
  {
   "cell_type": "markdown",
   "id": "1f506ef6",
   "metadata": {},
   "source": [
    "### 生成數據"
   ]
  },
  {
   "cell_type": "code",
   "execution_count": 6,
   "id": "b992dbee",
   "metadata": {},
   "outputs": [
    {
     "name": "stdout",
     "output_type": "stream",
     "text": [
      "Set parameter Username\n",
      "Academic license - for non-commercial use only - expires 2025-05-31\n",
      "目標收益: 0.0050\n",
      "最佳投資組合權重:\n",
      "資產 1: 0.0249\n",
      "資產 2: 0.0282\n",
      "資產 3: 0.9468\n",
      "投資組合標準差: 0.030883\n",
      "實際投資組合收益: 0.039200\n",
      "---\n",
      "目標收益: 0.0100\n",
      "最佳投資組合權重:\n",
      "資產 1: 0.0249\n",
      "資產 2: 0.0282\n",
      "資產 3: 0.9468\n",
      "投資組合標準差: 0.030883\n",
      "實際投資組合收益: 0.039200\n",
      "---\n",
      "目標收益: 0.0150\n",
      "最佳投資組合權重:\n",
      "資產 1: 0.0249\n",
      "資產 2: 0.0282\n",
      "資產 3: 0.9468\n",
      "投資組合標準差: 0.030883\n",
      "實際投資組合收益: 0.039200\n",
      "---\n",
      "目標收益: 0.0200\n",
      "最佳投資組合權重:\n",
      "資產 1: 0.0249\n",
      "資產 2: 0.0282\n",
      "資產 3: 0.9468\n",
      "投資組合標準差: 0.030883\n",
      "實際投資組合收益: 0.039200\n",
      "---\n",
      "目標收益: 0.0250\n",
      "最佳投資組合權重:\n",
      "資產 1: 0.0249\n",
      "資產 2: 0.0282\n",
      "資產 3: 0.9468\n",
      "投資組合標準差: 0.030883\n",
      "實際投資組合收益: 0.039200\n",
      "---\n",
      "目標收益: 0.0300\n",
      "最佳投資組合權重:\n",
      "資產 1: 0.0249\n",
      "資產 2: 0.0282\n",
      "資產 3: 0.9468\n",
      "投資組合標準差: 0.030883\n",
      "實際投資組合收益: 0.039200\n",
      "---\n",
      "目標收益: 0.0350\n",
      "最佳投資組合權重:\n",
      "資產 1: 0.0249\n",
      "資產 2: 0.0282\n",
      "資產 3: 0.9468\n",
      "投資組合標準差: 0.030883\n",
      "實際投資組合收益: 0.039200\n",
      "---\n",
      "目標收益: 0.0400\n",
      "最佳投資組合權重:\n",
      "資產 1: 0.0323\n",
      "資產 2: 0.0369\n",
      "資產 3: 0.9308\n",
      "投資組合標準差: 0.030929\n",
      "實際投資組合收益: 0.040000\n",
      "---\n",
      "目標收益: 0.0450\n",
      "最佳投資組合權重:\n",
      "資產 1: 0.0786\n",
      "資產 2: 0.0911\n",
      "資產 3: 0.8304\n",
      "投資組合標準差: 0.033221\n",
      "實際投資組合收益: 0.045000\n",
      "---\n",
      "目標收益: 0.0500\n",
      "最佳投資組合權重:\n",
      "資產 1: 0.1248\n",
      "資產 2: 0.1452\n",
      "資產 3: 0.7300\n",
      "投資組合標準差: 0.038384\n",
      "實際投資組合收益: 0.050000\n",
      "---\n",
      "目標收益: 0.0550\n",
      "最佳投資組合權重:\n",
      "資產 1: 0.1710\n",
      "資產 2: 0.1994\n",
      "資產 3: 0.6296\n",
      "投資組合標準差: 0.045451\n",
      "實際投資組合收益: 0.055000\n",
      "---\n",
      "目標收益: 0.0600\n",
      "最佳投資組合權重:\n",
      "資產 1: 0.2173\n",
      "資產 2: 0.2535\n",
      "資產 3: 0.5292\n",
      "投資組合標準差: 0.053675\n",
      "實際投資組合收益: 0.060000\n",
      "---\n",
      "目標收益: 0.0650\n",
      "最佳投資組合權重:\n",
      "資產 1: 0.2635\n",
      "資產 2: 0.3077\n",
      "資產 3: 0.4288\n",
      "投資組合標準差: 0.062601\n",
      "實際投資組合收益: 0.065000\n",
      "---\n",
      "目標收益: 0.0700\n",
      "最佳投資組合權重:\n",
      "資產 1: 0.3097\n",
      "資產 2: 0.3619\n",
      "資產 3: 0.3284\n",
      "投資組合標準差: 0.071968\n",
      "實際投資組合收益: 0.070000\n",
      "---\n",
      "目標收益: 0.0750\n",
      "最佳投資組合權重:\n",
      "資產 1: 0.3559\n",
      "資產 2: 0.4160\n",
      "資產 3: 0.2280\n",
      "投資組合標準差: 0.081626\n",
      "實際投資組合收益: 0.075000\n",
      "---\n",
      "目標收益: 0.0800\n",
      "最佳投資組合權重:\n",
      "資產 1: 0.4022\n",
      "資產 2: 0.4702\n",
      "資產 3: 0.1276\n",
      "投資組合標準差: 0.091481\n",
      "實際投資組合收益: 0.080000\n",
      "---\n",
      "目標收益: 0.0850\n",
      "最佳投資組合權重:\n",
      "資產 1: 0.4484\n",
      "資產 2: 0.5244\n",
      "資產 3: 0.0272\n",
      "投資組合標準差: 0.101477\n",
      "實際投資組合收益: 0.085000\n",
      "---\n",
      "目標收益: 0.0900\n",
      "最佳投資組合權重:\n",
      "資產 1: 0.5205\n",
      "資產 2: 0.4795\n",
      "資產 3: 0.0000\n",
      "投資組合標準差: 0.112181\n",
      "實際投資組合收益: 0.090000\n",
      "---\n",
      "目標收益: 0.0950\n",
      "最佳投資組合權重:\n",
      "資產 1: 0.6022\n",
      "資產 2: 0.3978\n",
      "資產 3: 0.0000\n",
      "投資組合標準差: 0.124844\n",
      "實際投資組合收益: 0.095000\n",
      "---\n",
      "目標收益: 0.1000\n",
      "最佳投資組合權重:\n",
      "資產 1: 0.6839\n",
      "資產 2: 0.3161\n",
      "資產 3: 0.0000\n",
      "投資組合標準差: 0.138999\n",
      "實際投資組合收益: 0.100000\n",
      "---\n"
     ]
    },
    {
     "name": "stderr",
     "output_type": "stream",
     "text": [
      "/var/folders/9h/v4160_yj2h7700dtq3f2mfk40000gn/T/ipykernel_94993/1625408918.py:13: FutureWarning: Series.__getitem__ treating keys as positions is deprecated. In a future version, integer keys will always be treated as labels (consistent with DataFrame behavior). To access a value by position, use `ser.iloc[pos]`\n",
      "  m.addConstr(sum(weights[i] * expected_returns[i] for i in range(n)) >= target_return, \"target_return\")\n",
      "/var/folders/9h/v4160_yj2h7700dtq3f2mfk40000gn/T/ipykernel_94993/1625408918.py:14: FutureWarning: Series.__getitem__ treating keys as positions is deprecated. In a future version, integer keys will always be treated as labels (consistent with DataFrame behavior). To access a value by position, use `ser.iloc[pos]`\n",
      "  PR = sum(weights[i] * expected_returns[i] for i in range(n))\n"
     ]
    },
    {
     "data": {
      "text/html": [
       "<div>\n",
       "<style scoped>\n",
       "    .dataframe tbody tr th:only-of-type {\n",
       "        vertical-align: middle;\n",
       "    }\n",
       "\n",
       "    .dataframe tbody tr th {\n",
       "        vertical-align: top;\n",
       "    }\n",
       "\n",
       "    .dataframe thead th {\n",
       "        text-align: right;\n",
       "    }\n",
       "</style>\n",
       "<table border=\"1\" class=\"dataframe\">\n",
       "  <thead>\n",
       "    <tr style=\"text-align: right;\">\n",
       "      <th></th>\n",
       "      <th>標準差</th>\n",
       "      <th>收益</th>\n",
       "    </tr>\n",
       "  </thead>\n",
       "  <tbody>\n",
       "    <tr>\n",
       "      <th>0</th>\n",
       "      <td>0.030883</td>\n",
       "      <td>0.0392</td>\n",
       "    </tr>\n",
       "    <tr>\n",
       "      <th>1</th>\n",
       "      <td>0.030883</td>\n",
       "      <td>0.0392</td>\n",
       "    </tr>\n",
       "    <tr>\n",
       "      <th>2</th>\n",
       "      <td>0.030883</td>\n",
       "      <td>0.0392</td>\n",
       "    </tr>\n",
       "    <tr>\n",
       "      <th>3</th>\n",
       "      <td>0.030883</td>\n",
       "      <td>0.0392</td>\n",
       "    </tr>\n",
       "    <tr>\n",
       "      <th>4</th>\n",
       "      <td>0.030883</td>\n",
       "      <td>0.0392</td>\n",
       "    </tr>\n",
       "    <tr>\n",
       "      <th>5</th>\n",
       "      <td>0.030883</td>\n",
       "      <td>0.0392</td>\n",
       "    </tr>\n",
       "    <tr>\n",
       "      <th>6</th>\n",
       "      <td>0.030883</td>\n",
       "      <td>0.0392</td>\n",
       "    </tr>\n",
       "    <tr>\n",
       "      <th>7</th>\n",
       "      <td>0.030929</td>\n",
       "      <td>0.0400</td>\n",
       "    </tr>\n",
       "    <tr>\n",
       "      <th>8</th>\n",
       "      <td>0.033221</td>\n",
       "      <td>0.0450</td>\n",
       "    </tr>\n",
       "    <tr>\n",
       "      <th>9</th>\n",
       "      <td>0.038384</td>\n",
       "      <td>0.0500</td>\n",
       "    </tr>\n",
       "    <tr>\n",
       "      <th>10</th>\n",
       "      <td>0.045451</td>\n",
       "      <td>0.0550</td>\n",
       "    </tr>\n",
       "    <tr>\n",
       "      <th>11</th>\n",
       "      <td>0.053675</td>\n",
       "      <td>0.0600</td>\n",
       "    </tr>\n",
       "    <tr>\n",
       "      <th>12</th>\n",
       "      <td>0.062601</td>\n",
       "      <td>0.0650</td>\n",
       "    </tr>\n",
       "    <tr>\n",
       "      <th>13</th>\n",
       "      <td>0.071968</td>\n",
       "      <td>0.0700</td>\n",
       "    </tr>\n",
       "    <tr>\n",
       "      <th>14</th>\n",
       "      <td>0.081626</td>\n",
       "      <td>0.0750</td>\n",
       "    </tr>\n",
       "    <tr>\n",
       "      <th>15</th>\n",
       "      <td>0.091481</td>\n",
       "      <td>0.0800</td>\n",
       "    </tr>\n",
       "    <tr>\n",
       "      <th>16</th>\n",
       "      <td>0.101477</td>\n",
       "      <td>0.0850</td>\n",
       "    </tr>\n",
       "    <tr>\n",
       "      <th>17</th>\n",
       "      <td>0.112181</td>\n",
       "      <td>0.0900</td>\n",
       "    </tr>\n",
       "    <tr>\n",
       "      <th>18</th>\n",
       "      <td>0.124844</td>\n",
       "      <td>0.0950</td>\n",
       "    </tr>\n",
       "    <tr>\n",
       "      <th>19</th>\n",
       "      <td>0.138999</td>\n",
       "      <td>0.1000</td>\n",
       "    </tr>\n",
       "  </tbody>\n",
       "</table>\n",
       "</div>"
      ],
      "text/plain": [
       "         標準差      收益\n",
       "0   0.030883  0.0392\n",
       "1   0.030883  0.0392\n",
       "2   0.030883  0.0392\n",
       "3   0.030883  0.0392\n",
       "4   0.030883  0.0392\n",
       "5   0.030883  0.0392\n",
       "6   0.030883  0.0392\n",
       "7   0.030929  0.0400\n",
       "8   0.033221  0.0450\n",
       "9   0.038384  0.0500\n",
       "10  0.045451  0.0550\n",
       "11  0.053675  0.0600\n",
       "12  0.062601  0.0650\n",
       "13  0.071968  0.0700\n",
       "14  0.081626  0.0750\n",
       "15  0.091481  0.0800\n",
       "16  0.101477  0.0850\n",
       "17  0.112181  0.0900\n",
       "18  0.124844  0.0950\n",
       "19  0.138999  0.1000"
      ]
     },
     "metadata": {},
     "output_type": "display_data"
    }
   ],
   "source": [
    "result = []\n",
    "x = []\n",
    "y = []\n",
    "\n",
    "for t in range(1, 21):\n",
    "    target_return = 0.005 * t\n",
    "    optimization_result = optimize_portfolio(target_return)\n",
    "    \n",
    "    if optimization_result:\n",
    "        PSTD, PR, weights = optimization_result\n",
    "        result.append([PSTD, PR])\n",
    "        x.append(PSTD)\n",
    "        y.append(PR)\n",
    "        \n",
    "        print(f'目標收益: {target_return:.4f}')\n",
    "        print('最佳投資組合權重:')\n",
    "        for i, weight in enumerate(weights):\n",
    "            print(f\"資產 {i+1}: {weight:.4f}\")\n",
    "        print(f\"投資組合標準差: {PSTD:.6f}\")\n",
    "        print(f\"實際投資組合收益: {PR:.6f}\")\n",
    "        print(\"---\")\n",
    "    else:\n",
    "        print(f\"無法找到最佳解 (目標收益: {target_return:.4f})\")\n",
    "\n",
    "# 將結果轉換為DataFrame\n",
    "result_df = pd.DataFrame(result, columns=['標準差', '收益'])\n",
    "display(result_df)"
   ]
  },
  {
   "cell_type": "markdown",
   "id": "9c6a6bfa",
   "metadata": {},
   "source": [
    "### 繪製圖案"
   ]
  },
  {
   "cell_type": "code",
   "execution_count": 7,
   "id": "c202cb40",
   "metadata": {},
   "outputs": [
    {
     "data": {
      "image/png": "[encoded data removed]",
      "text/plain": [
       "<Figure size 1000x600 with 1 Axes>"
      ]
     },
     "metadata": {},
     "output_type": "display_data"
    }
   ],
   "source": [
    "plt.figure(figsize=(10, 6))\n",
    "plt.scatter(x, y, color='blue')\n",
    "plt.plot(x, y, color='red')\n",
    "\n",
    "plt.title(\"Effective Frontier Chart\")\n",
    "plt.xlabel(\"Standard deviation\")\n",
    "plt.ylabel(\"Expected return\")\n",
    "\n",
    "plt.grid(True)\n",
    "plt.show()"
   ]
  }
 ],
 "metadata": {
  "kernelspec": {
   "display_name": "Python 3 (ipykernel)",
   "language": "python",
   "name": "python3"
  },
  "language_info": {
   "codemirror_mode": {
    "name": "ipython",
    "version": 3
   },
   "file_extension": ".py",
   "mimetype": "text/x-python",
   "name": "python",
   "nbconvert_exporter": "python",
   "pygments_lexer": "ipython3",
   "version": "3.11.9"
  }
 },
 "nbformat": 4,
 "nbformat_minor": 5
}
